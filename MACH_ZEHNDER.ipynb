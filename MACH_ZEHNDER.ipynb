{
 "cells": [
  {
   "cell_type": "code",
   "execution_count": null,
   "id": "9a4bb922",
   "metadata": {},
   "outputs": [],
   "source": [
    "#Initialize IBM computer\n",
    "from qiskit import *\n",
    "from qiskit import IBMQ\n",
    "import qiskit.tools.jupyter\n",
    "%qiskit_job_watcher # You should see a floating tab \"IBMQ Jobs\" appear on the top left corner\n",
    "IBMQ.load_account()\n",
    "provider = IBMQ.get_provider(hub='ibm-q')\n",
    "provider.backends()"
   ]
  },
  {
   "cell_type": "code",
   "execution_count": null,
   "id": "e1d08b42",
   "metadata": {},
   "outputs": [],
   "source": [
    "# get the least-busy backend at IQX, this step may take up to one minute\n",
    "from qiskit.providers.ibmq import least_busy\n",
    "device = least_busy(provider.backends(filters=lambda b: b.configuration().n_qubits >= 4 and not b.configuration().simulator and b.status().operational==True))\n",
    "device"
   ]
  },
  {
   "cell_type": "code",
   "execution_count": null,
   "id": "d755eabc-cb45-46d5-82ba-ae8df4bc0085",
   "metadata": {},
   "outputs": [],
   "source": [
    "from numpy import *\n",
    "from qiskit import *\n",
    "import matplotlib.pyplot as plt\n",
    "from qiskit.providers.aer import QasmSimulator\n",
    "from qiskit.visualization import plot_bloch_multivector, plot_histogram\n",
    "from qiskit.quantum_info import Statevector\n",
    "from qiskit.visualization import plot_bloch_multivector"
   ]
  },
  {
   "cell_type": "code",
   "execution_count": 4,
   "id": "1095d12c-07da-4471-926d-341236ff9135",
   "metadata": {},
   "outputs": [],
   "source": [
    "state_0=array([]);\n",
    "state_1=array([]);\n",
    "phase_data=array([]);\n",
    "q = QuantumRegister(1)\n",
    "c = ClassicalRegister(1)\n",
    "N_phase=20; # Step number of phase\n",
    "shots=500; # Number of repetitions of each circuit"
   ]
  },
  {
   "cell_type": "code",
   "execution_count": null,
   "id": "ff334465-8324-4fdd-a962-761268af9b9c",
   "metadata": {},
   "outputs": [],
   "source": [
    "for i in range(N_phase):\n",
    "    mz = QuantumCircuit(q,c) #Define circuit\n",
    "    phase = 2*(i-1)*pi/15; # Step width of the phase = pi/15\n",
    "    phase_data = append(phase_data,phase); \n",
    "    # Perform Mach-Zehnder interferometer\n",
    "    mz.u(pi/2,pi/2,-pi/2,q); # Beam splitter BS1\n",
    "    mz.p(-phase, q); # Phase shifter\n",
    "    mz.u(pi/2,pi/2,-pi/2,q); # Beam splitter BS2\n",
    "    mz.measure([0],[0]) # perform measurement\n",
    "    job = execute(mz, backend=device, shots=500) # Perform experiment for 500 repetitions \n",
    "    result = job.result()\n",
    "    data = result.get_counts();\n",
    "    # Record probability to find each state in \"state_0\" and \"state_1\" \n",
    "    state_0=append(state_0,data['0']/shots); \n",
    "    state_1=append(state_1,data['1']/shots);"
   ]
  },
  {
   "cell_type": "code",
   "execution_count": null,
   "id": "cab0b2f6",
   "metadata": {},
   "outputs": [],
   "source": [
    "#Print probability to find each state\n",
    "print(phase_data) # Phase\n",
    "print(state_0) # Probability to find state |0>\n",
    "print(state_1) # Probability to find state |1>"
   ]
  }
 ],
 "metadata": {
  "kernelspec": {
   "display_name": "Python 3",
   "language": "python",
   "name": "python3"
  },
  "language_info": {
   "codemirror_mode": {
    "name": "ipython",
    "version": 3
   },
   "file_extension": ".py",
   "mimetype": "text/x-python",
   "name": "python",
   "nbconvert_exporter": "python",
   "pygments_lexer": "ipython3",
   "version": "3.8.8"
  },
  "widgets": {
   "application/vnd.jupyter.widget-state+json": {
    "state": {},
    "version_major": 2,
    "version_minor": 0
   }
  }
 },
 "nbformat": 4,
 "nbformat_minor": 5
}
